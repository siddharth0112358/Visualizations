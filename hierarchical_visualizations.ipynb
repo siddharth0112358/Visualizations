{
 "cells": [
  {
   "cell_type": "markdown",
   "metadata": {},
   "source": [
    "https://towardsdatascience.com/6-hierarchical-datavisualizations-98318851c7c5"
   ]
  },
  {
   "cell_type": "markdown",
   "metadata": {},
   "source": [
    "## Enclosed Tree Diagram"
   ]
  },
  {
   "cell_type": "code",
   "execution_count": null,
   "metadata": {},
   "outputs": [],
   "source": [
    "%pip install anytree"
   ]
  },
  {
   "cell_type": "code",
   "execution_count": 13,
   "metadata": {},
   "outputs": [],
   "source": [
    "import json\n",
    "from anytree import PostOrderIter\n",
    "from anytree.importer import DictImporter\n",
    "import ipywidgets as widgets\n",
    "import plotly.graph_objs as go\n",
    "import pandas as pd\n",
    "import plotly"
   ]
  },
  {
   "cell_type": "code",
   "execution_count": 7,
   "metadata": {},
   "outputs": [],
   "source": [
    "with open('flare.json') as f:\n",
    "   js_data = json.loads(f.read())"
   ]
  },
  {
   "cell_type": "code",
   "execution_count": 9,
   "metadata": {},
   "outputs": [],
   "source": [
    "#imports dictonary in a tree form\n",
    "importer = DictImporter()\n",
    "root = importer.import_(js_data)\n",
    "\n",
    "\n",
    "size = []\n",
    "name = []\n",
    "parent = []\n",
    "level = []"
   ]
  },
  {
   "cell_type": "code",
   "execution_count": 10,
   "metadata": {},
   "outputs": [],
   "source": [
    "def format(node):\n",
    "  for i in node.children:\n",
    "    #check if node as attribute value\n",
    "    if hasattr(i, 'value') == False:\n",
    "      format(i)\n",
    "    v = i.value\n",
    "    #check if node parent as attribute value\n",
    "    if hasattr(i.parent, 'value'):\n",
    "      i.parent.value += v\n",
    "    #if node parent doesn't have a value set to same val as child\n",
    "    elif hasattr(i.parent, 'value')== False:\n",
    "      i.parent.value = v\n",
    "\n",
    "    level.append(len(i.ancestors))\n",
    "    name.append(i.name)\n",
    "    parent.append(i.parent.name)\n",
    "    size.append(i.value)"
   ]
  },
  {
   "cell_type": "code",
   "execution_count": 11,
   "metadata": {},
   "outputs": [],
   "source": [
    "format(root)\n",
    "\n",
    "#append attributes for root\n",
    "level.append(0)\n",
    "name.append(root.name)\n",
    "parent.append(\"\")\n",
    "size.append(root.value)\n",
    "\n",
    "#create df\n",
    "df = pd.DataFrame()\n",
    "df['parent'] = parent\n",
    "df['name'] = name\n",
    "df['value']= size\n",
    "df['level'] = level"
   ]
  },
  {
   "cell_type": "code",
   "execution_count": 14,
   "metadata": {},
   "outputs": [
    {
     "data": {
      "application/vnd.jupyter.widget-view+json": {
       "model_id": "54424d47df054febb12cf50220791e9c",
       "version_major": 2,
       "version_minor": 0
      },
      "text/plain": [
       "interactive(children=(IntSlider(value=2, description='sliderVal', max=5), Output()), _dom_classes=('widget-int…"
      ]
     },
     "metadata": {},
     "output_type": "display_data"
    },
    {
     "data": {
      "application/vnd.plotly.v1+json": {
       "config": {
        "plotlyServerURL": "https://plot.ly"
       },
       "data": [
        {
         "labels": [
          "cluster",
          "graph",
          "optimization",
          "analytics",
          "Easing",
          "FunctionSequence",
          "interpolate",
          "ISchedulable",
          "Parallel",
          "Pause",
          "Scheduler",
          "Sequence",
          "Transition",
          "Transitioner",
          "TransitionEvent",
          "Tween",
          "animate",
          "converters",
          "DataField",
          "DataSchema",
          "DataSet",
          "DataSource",
          "DataTable",
          "DataUtil",
          "data",
          "DirtySprite",
          "LineSprite",
          "RectSprite",
          "TextSprite",
          "display",
          "FlareVis",
          "flex",
          "DragForce",
          "GravityForce",
          "IForce",
          "NBodyForce",
          "Particle",
          "Simulation",
          "Spring",
          "SpringForce",
          "physics",
          "AggregateExpression",
          "And",
          "Arithmetic",
          "Average",
          "BinaryExpression",
          "Comparison",
          "CompositeExpression",
          "Count",
          "DateUtil",
          "Distinct",
          "Expression",
          "ExpressionIterator",
          "Fn",
          "If",
          "IsA",
          "Literal",
          "Match",
          "Maximum",
          "methods",
          "Minimum",
          "Not",
          "Or",
          "Query",
          "Range",
          "StringUtil",
          "Sum",
          "Variable",
          "Variance",
          "Xor",
          "query",
          "IScaleMap",
          "LinearScale",
          "LogScale",
          "OrdinalScale",
          "QuantileScale",
          "QuantitativeScale",
          "RootScale",
          "Scale",
          "ScaleType",
          "TimeScale",
          "scale",
          "Arrays",
          "Colors",
          "Dates",
          "Displays",
          "Filter",
          "Geometry",
          "heap",
          "IEvaluable",
          "IPredicate",
          "IValueProxy",
          "math",
          "Maths",
          "Orientation",
          "palette",
          "Property",
          "Shapes",
          "Sort",
          "Stats",
          "Strings",
          "util",
          "axis",
          "controls",
          "data1",
          "events",
          "legend",
          "operator",
          "Visualization",
          "vis",
          "flare"
         ],
         "parents": [
          "analytics",
          "analytics",
          "analytics",
          "flare",
          "animate",
          "animate",
          "animate",
          "animate",
          "animate",
          "animate",
          "animate",
          "animate",
          "animate",
          "animate",
          "animate",
          "animate",
          "flare",
          "data",
          "data",
          "data",
          "data",
          "data",
          "data",
          "data",
          "flare",
          "display",
          "display",
          "display",
          "display",
          "flare",
          "flex",
          "flare",
          "physics",
          "physics",
          "physics",
          "physics",
          "physics",
          "physics",
          "physics",
          "physics",
          "flare",
          "query",
          "query",
          "query",
          "query",
          "query",
          "query",
          "query",
          "query",
          "query",
          "query",
          "query",
          "query",
          "query",
          "query",
          "query",
          "query",
          "query",
          "query",
          "query",
          "query",
          "query",
          "query",
          "query",
          "query",
          "query",
          "query",
          "query",
          "query",
          "query",
          "flare",
          "scale",
          "scale",
          "scale",
          "scale",
          "scale",
          "scale",
          "scale",
          "scale",
          "scale",
          "scale",
          "flare",
          "util",
          "util",
          "util",
          "util",
          "util",
          "util",
          "util",
          "util",
          "util",
          "util",
          "util",
          "util",
          "util",
          "util",
          "util",
          "util",
          "util",
          "util",
          "util",
          "flare",
          "vis",
          "vis",
          "vis",
          "vis",
          "vis",
          "vis",
          "vis",
          "flare",
          ""
         ],
         "root": {
          "color": "#f1f1f1"
         },
         "type": "treemap",
         "values": [
          15207,
          26435,
          7074,
          48716,
          17010,
          5842,
          23081,
          1041,
          5176,
          449,
          5593,
          5534,
          9201,
          19975,
          1116,
          6006,
          100024,
          18349,
          1759,
          2165,
          586,
          3331,
          772,
          3322,
          30284,
          8833,
          1732,
          3623,
          10066,
          24254,
          4116,
          4116,
          1082,
          1336,
          319,
          10498,
          2822,
          9983,
          2213,
          1681,
          29934,
          1616,
          1027,
          3891,
          891,
          2893,
          5103,
          3677,
          781,
          4141,
          933,
          5130,
          3617,
          3240,
          2732,
          2039,
          1214,
          3748,
          843,
          14326,
          843,
          1554,
          970,
          13896,
          1594,
          4130,
          791,
          1124,
          1876,
          1101,
          89721,
          2105,
          1316,
          3151,
          3770,
          2435,
          4839,
          1756,
          4268,
          1821,
          5833,
          31294,
          8258,
          10001,
          8217,
          12555,
          2324,
          10993,
          10587,
          335,
          383,
          874,
          9346,
          17705,
          1486,
          11946,
          5559,
          19118,
          6887,
          6557,
          22026,
          165157,
          33886,
          44639,
          110583,
          7011,
          36003,
          183967,
          16540,
          432629,
          956129
         ]
        }
       ],
       "layout": {
        "height": 900,
        "template": {
         "data": {
          "bar": [
           {
            "error_x": {
             "color": "#2a3f5f"
            },
            "error_y": {
             "color": "#2a3f5f"
            },
            "marker": {
             "line": {
              "color": "#E5ECF6",
              "width": 0.5
             },
             "pattern": {
              "fillmode": "overlay",
              "size": 10,
              "solidity": 0.2
             }
            },
            "type": "bar"
           }
          ],
          "barpolar": [
           {
            "marker": {
             "line": {
              "color": "#E5ECF6",
              "width": 0.5
             },
             "pattern": {
              "fillmode": "overlay",
              "size": 10,
              "solidity": 0.2
             }
            },
            "type": "barpolar"
           }
          ],
          "carpet": [
           {
            "aaxis": {
             "endlinecolor": "#2a3f5f",
             "gridcolor": "white",
             "linecolor": "white",
             "minorgridcolor": "white",
             "startlinecolor": "#2a3f5f"
            },
            "baxis": {
             "endlinecolor": "#2a3f5f",
             "gridcolor": "white",
             "linecolor": "white",
             "minorgridcolor": "white",
             "startlinecolor": "#2a3f5f"
            },
            "type": "carpet"
           }
          ],
          "choropleth": [
           {
            "colorbar": {
             "outlinewidth": 0,
             "ticks": ""
            },
            "type": "choropleth"
           }
          ],
          "contour": [
           {
            "colorbar": {
             "outlinewidth": 0,
             "ticks": ""
            },
            "colorscale": [
             [
              0,
              "#0d0887"
             ],
             [
              0.1111111111111111,
              "#46039f"
             ],
             [
              0.2222222222222222,
              "#7201a8"
             ],
             [
              0.3333333333333333,
              "#9c179e"
             ],
             [
              0.4444444444444444,
              "#bd3786"
             ],
             [
              0.5555555555555556,
              "#d8576b"
             ],
             [
              0.6666666666666666,
              "#ed7953"
             ],
             [
              0.7777777777777778,
              "#fb9f3a"
             ],
             [
              0.8888888888888888,
              "#fdca26"
             ],
             [
              1,
              "#f0f921"
             ]
            ],
            "type": "contour"
           }
          ],
          "contourcarpet": [
           {
            "colorbar": {
             "outlinewidth": 0,
             "ticks": ""
            },
            "type": "contourcarpet"
           }
          ],
          "heatmap": [
           {
            "colorbar": {
             "outlinewidth": 0,
             "ticks": ""
            },
            "colorscale": [
             [
              0,
              "#0d0887"
             ],
             [
              0.1111111111111111,
              "#46039f"
             ],
             [
              0.2222222222222222,
              "#7201a8"
             ],
             [
              0.3333333333333333,
              "#9c179e"
             ],
             [
              0.4444444444444444,
              "#bd3786"
             ],
             [
              0.5555555555555556,
              "#d8576b"
             ],
             [
              0.6666666666666666,
              "#ed7953"
             ],
             [
              0.7777777777777778,
              "#fb9f3a"
             ],
             [
              0.8888888888888888,
              "#fdca26"
             ],
             [
              1,
              "#f0f921"
             ]
            ],
            "type": "heatmap"
           }
          ],
          "heatmapgl": [
           {
            "colorbar": {
             "outlinewidth": 0,
             "ticks": ""
            },
            "colorscale": [
             [
              0,
              "#0d0887"
             ],
             [
              0.1111111111111111,
              "#46039f"
             ],
             [
              0.2222222222222222,
              "#7201a8"
             ],
             [
              0.3333333333333333,
              "#9c179e"
             ],
             [
              0.4444444444444444,
              "#bd3786"
             ],
             [
              0.5555555555555556,
              "#d8576b"
             ],
             [
              0.6666666666666666,
              "#ed7953"
             ],
             [
              0.7777777777777778,
              "#fb9f3a"
             ],
             [
              0.8888888888888888,
              "#fdca26"
             ],
             [
              1,
              "#f0f921"
             ]
            ],
            "type": "heatmapgl"
           }
          ],
          "histogram": [
           {
            "marker": {
             "pattern": {
              "fillmode": "overlay",
              "size": 10,
              "solidity": 0.2
             }
            },
            "type": "histogram"
           }
          ],
          "histogram2d": [
           {
            "colorbar": {
             "outlinewidth": 0,
             "ticks": ""
            },
            "colorscale": [
             [
              0,
              "#0d0887"
             ],
             [
              0.1111111111111111,
              "#46039f"
             ],
             [
              0.2222222222222222,
              "#7201a8"
             ],
             [
              0.3333333333333333,
              "#9c179e"
             ],
             [
              0.4444444444444444,
              "#bd3786"
             ],
             [
              0.5555555555555556,
              "#d8576b"
             ],
             [
              0.6666666666666666,
              "#ed7953"
             ],
             [
              0.7777777777777778,
              "#fb9f3a"
             ],
             [
              0.8888888888888888,
              "#fdca26"
             ],
             [
              1,
              "#f0f921"
             ]
            ],
            "type": "histogram2d"
           }
          ],
          "histogram2dcontour": [
           {
            "colorbar": {
             "outlinewidth": 0,
             "ticks": ""
            },
            "colorscale": [
             [
              0,
              "#0d0887"
             ],
             [
              0.1111111111111111,
              "#46039f"
             ],
             [
              0.2222222222222222,
              "#7201a8"
             ],
             [
              0.3333333333333333,
              "#9c179e"
             ],
             [
              0.4444444444444444,
              "#bd3786"
             ],
             [
              0.5555555555555556,
              "#d8576b"
             ],
             [
              0.6666666666666666,
              "#ed7953"
             ],
             [
              0.7777777777777778,
              "#fb9f3a"
             ],
             [
              0.8888888888888888,
              "#fdca26"
             ],
             [
              1,
              "#f0f921"
             ]
            ],
            "type": "histogram2dcontour"
           }
          ],
          "mesh3d": [
           {
            "colorbar": {
             "outlinewidth": 0,
             "ticks": ""
            },
            "type": "mesh3d"
           }
          ],
          "parcoords": [
           {
            "line": {
             "colorbar": {
              "outlinewidth": 0,
              "ticks": ""
             }
            },
            "type": "parcoords"
           }
          ],
          "pie": [
           {
            "automargin": true,
            "type": "pie"
           }
          ],
          "scatter": [
           {
            "fillpattern": {
             "fillmode": "overlay",
             "size": 10,
             "solidity": 0.2
            },
            "type": "scatter"
           }
          ],
          "scatter3d": [
           {
            "line": {
             "colorbar": {
              "outlinewidth": 0,
              "ticks": ""
             }
            },
            "marker": {
             "colorbar": {
              "outlinewidth": 0,
              "ticks": ""
             }
            },
            "type": "scatter3d"
           }
          ],
          "scattercarpet": [
           {
            "marker": {
             "colorbar": {
              "outlinewidth": 0,
              "ticks": ""
             }
            },
            "type": "scattercarpet"
           }
          ],
          "scattergeo": [
           {
            "marker": {
             "colorbar": {
              "outlinewidth": 0,
              "ticks": ""
             }
            },
            "type": "scattergeo"
           }
          ],
          "scattergl": [
           {
            "marker": {
             "colorbar": {
              "outlinewidth": 0,
              "ticks": ""
             }
            },
            "type": "scattergl"
           }
          ],
          "scattermapbox": [
           {
            "marker": {
             "colorbar": {
              "outlinewidth": 0,
              "ticks": ""
             }
            },
            "type": "scattermapbox"
           }
          ],
          "scatterpolar": [
           {
            "marker": {
             "colorbar": {
              "outlinewidth": 0,
              "ticks": ""
             }
            },
            "type": "scatterpolar"
           }
          ],
          "scatterpolargl": [
           {
            "marker": {
             "colorbar": {
              "outlinewidth": 0,
              "ticks": ""
             }
            },
            "type": "scatterpolargl"
           }
          ],
          "scatterternary": [
           {
            "marker": {
             "colorbar": {
              "outlinewidth": 0,
              "ticks": ""
             }
            },
            "type": "scatterternary"
           }
          ],
          "surface": [
           {
            "colorbar": {
             "outlinewidth": 0,
             "ticks": ""
            },
            "colorscale": [
             [
              0,
              "#0d0887"
             ],
             [
              0.1111111111111111,
              "#46039f"
             ],
             [
              0.2222222222222222,
              "#7201a8"
             ],
             [
              0.3333333333333333,
              "#9c179e"
             ],
             [
              0.4444444444444444,
              "#bd3786"
             ],
             [
              0.5555555555555556,
              "#d8576b"
             ],
             [
              0.6666666666666666,
              "#ed7953"
             ],
             [
              0.7777777777777778,
              "#fb9f3a"
             ],
             [
              0.8888888888888888,
              "#fdca26"
             ],
             [
              1,
              "#f0f921"
             ]
            ],
            "type": "surface"
           }
          ],
          "table": [
           {
            "cells": {
             "fill": {
              "color": "#EBF0F8"
             },
             "line": {
              "color": "white"
             }
            },
            "header": {
             "fill": {
              "color": "#C8D4E3"
             },
             "line": {
              "color": "white"
             }
            },
            "type": "table"
           }
          ]
         },
         "layout": {
          "annotationdefaults": {
           "arrowcolor": "#2a3f5f",
           "arrowhead": 0,
           "arrowwidth": 1
          },
          "autotypenumbers": "strict",
          "coloraxis": {
           "colorbar": {
            "outlinewidth": 0,
            "ticks": ""
           }
          },
          "colorscale": {
           "diverging": [
            [
             0,
             "#8e0152"
            ],
            [
             0.1,
             "#c51b7d"
            ],
            [
             0.2,
             "#de77ae"
            ],
            [
             0.3,
             "#f1b6da"
            ],
            [
             0.4,
             "#fde0ef"
            ],
            [
             0.5,
             "#f7f7f7"
            ],
            [
             0.6,
             "#e6f5d0"
            ],
            [
             0.7,
             "#b8e186"
            ],
            [
             0.8,
             "#7fbc41"
            ],
            [
             0.9,
             "#4d9221"
            ],
            [
             1,
             "#276419"
            ]
           ],
           "sequential": [
            [
             0,
             "#0d0887"
            ],
            [
             0.1111111111111111,
             "#46039f"
            ],
            [
             0.2222222222222222,
             "#7201a8"
            ],
            [
             0.3333333333333333,
             "#9c179e"
            ],
            [
             0.4444444444444444,
             "#bd3786"
            ],
            [
             0.5555555555555556,
             "#d8576b"
            ],
            [
             0.6666666666666666,
             "#ed7953"
            ],
            [
             0.7777777777777778,
             "#fb9f3a"
            ],
            [
             0.8888888888888888,
             "#fdca26"
            ],
            [
             1,
             "#f0f921"
            ]
           ],
           "sequentialminus": [
            [
             0,
             "#0d0887"
            ],
            [
             0.1111111111111111,
             "#46039f"
            ],
            [
             0.2222222222222222,
             "#7201a8"
            ],
            [
             0.3333333333333333,
             "#9c179e"
            ],
            [
             0.4444444444444444,
             "#bd3786"
            ],
            [
             0.5555555555555556,
             "#d8576b"
            ],
            [
             0.6666666666666666,
             "#ed7953"
            ],
            [
             0.7777777777777778,
             "#fb9f3a"
            ],
            [
             0.8888888888888888,
             "#fdca26"
            ],
            [
             1,
             "#f0f921"
            ]
           ]
          },
          "colorway": [
           "#636efa",
           "#EF553B",
           "#00cc96",
           "#ab63fa",
           "#FFA15A",
           "#19d3f3",
           "#FF6692",
           "#B6E880",
           "#FF97FF",
           "#FECB52"
          ],
          "font": {
           "color": "#2a3f5f"
          },
          "geo": {
           "bgcolor": "white",
           "lakecolor": "white",
           "landcolor": "#E5ECF6",
           "showlakes": true,
           "showland": true,
           "subunitcolor": "white"
          },
          "hoverlabel": {
           "align": "left"
          },
          "hovermode": "closest",
          "mapbox": {
           "style": "light"
          },
          "paper_bgcolor": "white",
          "plot_bgcolor": "#E5ECF6",
          "polar": {
           "angularaxis": {
            "gridcolor": "white",
            "linecolor": "white",
            "ticks": ""
           },
           "bgcolor": "#E5ECF6",
           "radialaxis": {
            "gridcolor": "white",
            "linecolor": "white",
            "ticks": ""
           }
          },
          "scene": {
           "xaxis": {
            "backgroundcolor": "#E5ECF6",
            "gridcolor": "white",
            "gridwidth": 2,
            "linecolor": "white",
            "showbackground": true,
            "ticks": "",
            "zerolinecolor": "white"
           },
           "yaxis": {
            "backgroundcolor": "#E5ECF6",
            "gridcolor": "white",
            "gridwidth": 2,
            "linecolor": "white",
            "showbackground": true,
            "ticks": "",
            "zerolinecolor": "white"
           },
           "zaxis": {
            "backgroundcolor": "#E5ECF6",
            "gridcolor": "white",
            "gridwidth": 2,
            "linecolor": "white",
            "showbackground": true,
            "ticks": "",
            "zerolinecolor": "white"
           }
          },
          "shapedefaults": {
           "line": {
            "color": "#2a3f5f"
           }
          },
          "ternary": {
           "aaxis": {
            "gridcolor": "white",
            "linecolor": "white",
            "ticks": ""
           },
           "baxis": {
            "gridcolor": "white",
            "linecolor": "white",
            "ticks": ""
           },
           "bgcolor": "#E5ECF6",
           "caxis": {
            "gridcolor": "white",
            "linecolor": "white",
            "ticks": ""
           }
          },
          "title": {
           "x": 0.05
          },
          "xaxis": {
           "automargin": true,
           "gridcolor": "white",
           "linecolor": "white",
           "ticks": "",
           "title": {
            "standoff": 15
           },
           "zerolinecolor": "white",
           "zerolinewidth": 2
          },
          "yaxis": {
           "automargin": true,
           "gridcolor": "white",
           "linecolor": "white",
           "ticks": "",
           "title": {
            "standoff": 15
           },
           "zerolinecolor": "white",
           "zerolinewidth": 2
          }
         }
        },
        "width": 900
       }
      }
     },
     "metadata": {},
     "output_type": "display_data"
    },
    {
     "data": {
      "text/plain": [
       "<function __main__.update(sliderVal)>"
      ]
     },
     "execution_count": 14,
     "metadata": {},
     "output_type": "execute_result"
    }
   ],
   "source": [
    "#slider funtion\n",
    "def update(sliderVal):\n",
    "  fig = plotly.graph_objs.Figure()\n",
    "  fig.add_trace(plotly.graph_objs.Treemap(\n",
    "      labels = df[df['level']<sliderVal]['name'],\n",
    "      values = df[df['level']<sliderVal]['value'],\n",
    "      parents = df[df['level']<sliderVal]['parent']  \n",
    "  ))\n",
    "  fig.update_traces(root_color=\"#f1f1f1\")\n",
    "  fig.update_layout(width = 900, height = 900)\n",
    "  fig.show()\n",
    "\n",
    "#create slider widget\n",
    "widgets.interact(update, sliderVal = (0, 5))"
   ]
  },
  {
   "cell_type": "markdown",
   "metadata": {},
   "source": [
    "## Layered Diagram"
   ]
  },
  {
   "cell_type": "code",
   "execution_count": 18,
   "metadata": {},
   "outputs": [
    {
     "name": "stdout",
     "output_type": "stream",
     "text": [
      "Requirement already satisfied: PyQt5 in c:\\users\\siddh\\appdata\\local\\programs\\python\\python38\\lib\\site-packages (5.15.7)\n",
      "Requirement already satisfied: PyQt5-Qt5>=5.15.0 in c:\\users\\siddh\\appdata\\local\\programs\\python\\python38\\lib\\site-packages (from PyQt5) (5.15.2)\n",
      "Requirement already satisfied: PyQt5-sip<13,>=12.11 in c:\\users\\siddh\\appdata\\local\\programs\\python\\python38\\lib\\site-packages (from PyQt5) (12.11.0)\n",
      "Note: you may need to restart the kernel to use updated packages.\n"
     ]
    },
    {
     "name": "stderr",
     "output_type": "stream",
     "text": [
      "WARNING: Ignoring invalid distribution -ython-libsbml (c:\\users\\siddh\\appdata\\local\\programs\\python\\python38\\lib\\site-packages)\n",
      "WARNING: Ignoring invalid distribution -ython-libsbml (c:\\users\\siddh\\appdata\\local\\programs\\python\\python38\\lib\\site-packages)\n",
      "WARNING: Ignoring invalid distribution -ython-libsbml (c:\\users\\siddh\\appdata\\local\\programs\\python\\python38\\lib\\site-packages)\n",
      "WARNING: Ignoring invalid distribution -ython-libsbml (c:\\users\\siddh\\appdata\\local\\programs\\python\\python38\\lib\\site-packages)\n",
      "WARNING: Ignoring invalid distribution -ython-libsbml (c:\\users\\siddh\\appdata\\local\\programs\\python\\python38\\lib\\site-packages)\n",
      "WARNING: Ignoring invalid distribution -ython-libsbml (c:\\users\\siddh\\appdata\\local\\programs\\python\\python38\\lib\\site-packages)\n",
      "WARNING: There was an error checking the latest version of pip.\n"
     ]
    },
    {
     "name": "stdout",
     "output_type": "stream",
     "text": [
      "Collecting pyqtgraph\n",
      "  Downloading pyqtgraph-0.12.4-py3-none-any.whl (995 kB)\n",
      "     -------------------------------------- 995.8/995.8 kB 7.0 MB/s eta 0:00:00\n",
      "Requirement already satisfied: numpy>=1.17.0 in c:\\users\\siddh\\appdata\\local\\programs\\python\\python38\\lib\\site-packages (from pyqtgraph) (1.20.3)\n",
      "Installing collected packages: pyqtgraph\n",
      "Successfully installed pyqtgraph-0.12.4\n",
      "Note: you may need to restart the kernel to use updated packages.\n"
     ]
    },
    {
     "name": "stderr",
     "output_type": "stream",
     "text": [
      "WARNING: Ignoring invalid distribution -ython-libsbml (c:\\users\\siddh\\appdata\\local\\programs\\python\\python38\\lib\\site-packages)\n",
      "WARNING: Ignoring invalid distribution -ython-libsbml (c:\\users\\siddh\\appdata\\local\\programs\\python\\python38\\lib\\site-packages)\n",
      "WARNING: Ignoring invalid distribution -ython-libsbml (c:\\users\\siddh\\appdata\\local\\programs\\python\\python38\\lib\\site-packages)\n",
      "WARNING: Ignoring invalid distribution -ython-libsbml (c:\\users\\siddh\\appdata\\local\\programs\\python\\python38\\lib\\site-packages)\n",
      "WARNING: Ignoring invalid distribution -ython-libsbml (c:\\users\\siddh\\appdata\\local\\programs\\python\\python38\\lib\\site-packages)\n",
      "WARNING: Ignoring invalid distribution -ython-libsbml (c:\\users\\siddh\\appdata\\local\\programs\\python\\python38\\lib\\site-packages)\n",
      "WARNING: Ignoring invalid distribution -ython-libsbml (c:\\users\\siddh\\appdata\\local\\programs\\python\\python38\\lib\\site-packages)\n",
      "WARNING: There was an error checking the latest version of pip.\n"
     ]
    }
   ],
   "source": [
    "%pip install PyQt5\n",
    "%pip install pyqtgraph"
   ]
  },
  {
   "cell_type": "code",
   "execution_count": 19,
   "metadata": {},
   "outputs": [],
   "source": [
    "import json\n",
    "import networkx as nx\n",
    "#from networkx import graphviz_layout\n",
    "import matplotlib.pyplot as plt\n",
    "from matplotlib.pyplot import figure\n",
    "import matplotlib.cm as cm\n",
    "\n",
    "from sklearn.preprocessing import normalize\n",
    "from matplotlib.widgets import Button\n",
    "from matplotlib.patches import Rectangle\n",
    "from matplotlib.patches import Circle\n",
    "from matplotlib.patches import Wedge\n",
    "\n",
    "\n",
    "import sys\n",
    "from PyQt5.QtWidgets import QDialog, QApplication, QPushButton, QVBoxLayout, QLabel, QComboBox, QStyleFactory, \\\n",
    "    QGridLayout, QSlider\n",
    "import pandas as pd\n",
    "import re\n",
    "import pyqtgraph as pg\n",
    "import numpy as np\n",
    "\n",
    "import matplotlib.pyplot as plt\n",
    "import seaborn as sns\n",
    "from PyQt5.QtCore    import Qt\n",
    "from PyQt5.uic.properties import QtWidgets, QtCore\n",
    "\n",
    "from matplotlib.backends.backend_qt5agg import FigureCanvasQTAgg as FigureCanvas\n",
    "from matplotlib.backends.backend_qt5agg import NavigationToolbar2QT as NavigationToolbar\n",
    "import matplotlib.pyplot as plt\n",
    "from matplotlib.cm import ScalarMappable\n",
    "import random\n",
    "from matplotlib.colors import Normalize\n",
    "\n",
    "from matplotlib.figure import Figure\n",
    "import math\n",
    "\n",
    "from sklearn.preprocessing import normalize\n",
    "from anytree import Node, RenderTree, AsciiStyle, PreOrderIter, PostOrderIter\n",
    "from anytree.importer import DictImporter"
   ]
  },
  {
   "cell_type": "code",
   "execution_count": 20,
   "metadata": {},
   "outputs": [],
   "source": [
    "#create graph\n",
    "importer = DictImporter()\n",
    "root = importer.import_(js_data )\n",
    "\n",
    "children_curr = [root]\n",
    "cols = {}\n",
    "for j in children_curr:\n",
    "    #print('y',j)\n",
    "    c = 0\n",
    "    for i in PostOrderIter(j):\n",
    "        try :\n",
    "            c += i.value\n",
    "        except AttributeError:\n",
    "            continue\n",
    "    cols[j.name] = c\n",
    "    try:\n",
    "        #print((list(j.children)))\n",
    "        children_curr+=(list(j.children))\n",
    "    except:\n",
    "        continue\n",
    "\n",
    "node_lis = []\n",
    "edge_lis = []\n",
    "col_lis = []\n",
    "\n",
    "\n",
    "#adds nodes vals and edge vals to lists for network\n",
    "def parse_json(parent, data):\n",
    "    curr = parent\n",
    "    if curr != None:\n",
    "        edge_lis.append((parent, data['name']))\n",
    "   \n",
    "    col_lis.append(cols[data['name']])\n",
    "    node_lis.append(data['name'])\n",
    "    if 'children' in data:\n",
    "        for i in data['children']:\n",
    "            parse_json(data['name'],i)\n",
    "        \n",
    "    else:\n",
    "        return\n",
    "  \n",
    "parse_json(None, js_data)\n",
    "\n",
    "\n",
    "G = nx.DiGraph()\n",
    "G.add_nodes_from(node_lis)\n",
    "G.add_edges_from(edge_lis)\n",
    "\n",
    "\n",
    "\n",
    "sh = nx.shortest_path_length(G, 'flare')"
   ]
  },
  {
   "cell_type": "code",
   "execution_count": 21,
   "metadata": {},
   "outputs": [
    {
     "data": {
      "image/png": "[encoded data removed]",
      "text/plain": [
       "<Figure size 1440x1440 with 2 Axes>"
      ]
     },
     "metadata": {
      "needs_background": "light"
     },
     "output_type": "display_data"
    }
   ],
   "source": [
    "# #2\n",
    "# #ADD LEGEND\n",
    "\n",
    "#ENTER VALUE FROM 0-5\n",
    "VALUE = 5\n",
    "\n",
    "\n",
    "sh = nx.shortest_path_length(G, 'flare')\n",
    "fig, ax = plt.subplots(figsize=(20,20))\n",
    "\n",
    "\n",
    "plt.xlim([0, 10])\n",
    "plt.ylim([0, 100])\n",
    "sh = nx.shortest_path_length(G, 'flare')\n",
    "\n",
    "importer = DictImporter()\n",
    "root = importer.import_(js_data)\n",
    "pat = {}\n",
    "max_val = 956129\n",
    "def parse_json2(parent, data, value):     \n",
    "    curr = parent\n",
    "    if sh[data.name] >= value:\n",
    "        return\n",
    "    if curr == None:\n",
    "        ax.add_patch(Rectangle((0, 0), 2, 100, edgecolor= 'white', facecolor=cm.viridis(1)))\n",
    "        pat[data.name]=[(0,0), 2, 100]\n",
    "    elif curr !=None:\n",
    "\n",
    "        gr_info_p = pat[parent]\n",
    "        size_num_p = cols[parent]\n",
    "        level = sh[parent]\n",
    "        node_size = cols[data.name]\n",
    "        x = (level + 1)*2\n",
    "        size_perc = (cols[data.name]/max_val)*100\n",
    "        y = gr_info_p[0][1] \n",
    "        ax.add_patch(Rectangle((x,y),2,size_perc, edgecolor ='white', facecolor=cm.viridis(node_size/max_val)))\n",
    "        t = [(gr_info_p[0][0], gr_info_p[0][1]+size_perc), gr_info_p[1], gr_info_p[2]]\n",
    "        pat[parent] = t\n",
    "        pat[data.name] = [(x,y),2,size_perc]\n",
    "\n",
    "\n",
    "   \n",
    "    if len(data.children) == 0:\n",
    "        return\n",
    "    \n",
    "    for i in data.children:\n",
    "\n",
    "            parse_json2(i.parent.name,i, value)\n",
    "            \n",
    "    return \n",
    "  \n",
    "\n",
    "parse_json2(None, root, VALUE)\n",
    "c = plt.get_cmap(\"viridis\")\n",
    "m = ScalarMappable(Normalize(min(col_lis), max(col_lis)), c)\n",
    "\n",
    "clb = plt.colorbar(m)\n",
    "\n",
    "#legend\n",
    "plt.show()"
   ]
  },
  {
   "cell_type": "code",
   "execution_count": 22,
   "metadata": {},
   "outputs": [
    {
     "data": {
      "image/png": "[encoded data removed]",
      "text/plain": [
       "<Figure size 1440x1080 with 2 Axes>"
      ]
     },
     "metadata": {
      "needs_background": "light"
     },
     "output_type": "display_data"
    }
   ],
   "source": [
    "VALUE = 5\n",
    "fig1, ax1 = plt.subplots(figsize=(20,15))\n",
    "\n",
    "\n",
    "plt.xlim([-30, 30])\n",
    "plt.ylim([-30, 30])\n",
    "sh = nx.shortest_path_length(G, 'flare')\n",
    "\n",
    "\n",
    "\n",
    "importer = DictImporter()\n",
    "root = importer.import_(js_data)\n",
    "pat = {}\n",
    "max_val = 956129\n",
    "d = 0\n",
    "def parse_json3(parent, data, value):\n",
    "    \n",
    "    curr = parent\n",
    "    \n",
    "    if curr == None:\n",
    "        ax1.add_patch(Circle((0, 0),radius=5,edgecolor= 'white', facecolor=cm.viridis(1)))\n",
    "        pat[data.name]=0\n",
    "    if sh[data.name] >= value:\n",
    "        return\n",
    "\n",
    "    elif curr !=None:\n",
    "\n",
    "        deg_0 = pat[parent]\n",
    "        size_num_p = cols[parent]\n",
    "        level = sh[parent]\n",
    "        node_size = cols[data.name]\n",
    "        r = (level + 2)*5\n",
    "        size_perc = (cols[data.name]/max_val)*360\n",
    "        theta1 = deg_0\n",
    "        theta2 = deg_0 + size_perc\n",
    "        ax1.add_patch(Wedge((0, 0),r=r, theta1=theta1,theta2= theta2,edgecolor= 'white', facecolor=cm.viridis(node_size/max_val), width =5))\n",
    "        pat[parent] = theta2\n",
    "        pat[data.name] = theta1\n",
    "   \n",
    "    if len(data.children) == 0:\n",
    "        return\n",
    "    \n",
    "    for i in data.children:\n",
    "            parse_json3(i.parent.name,i, value)\n",
    "            \n",
    "   \n",
    "    return \n",
    "  \n",
    "parse_json3(None, root, VALUE)\n",
    "c = plt.get_cmap(\"viridis\")\n",
    "m = ScalarMappable(Normalize(min(col_lis), max(col_lis)), c)\n",
    "\n",
    "clb = plt.colorbar(m)\n",
    "\n",
    "plt.show()"
   ]
  },
  {
   "cell_type": "markdown",
   "metadata": {},
   "source": [
    "## Circle-packing"
   ]
  },
  {
   "cell_type": "code",
   "execution_count": null,
   "metadata": {},
   "outputs": [],
   "source": [
    "%pip install circlify"
   ]
  },
  {
   "cell_type": "code",
   "execution_count": null,
   "metadata": {},
   "outputs": [],
   "source": [
    "# import the circlify library\n",
    "import circlify\n",
    "\n",
    "# Compute circle positions thanks to the circlify() function\n",
    "circles = circlify.circlify(\n",
    "    js_data, \n",
    "    show_enclosure=False, \n",
    "    target_enclosure=circlify.Circle(x=0, y=0, r=1)\n",
    ")"
   ]
  },
  {
   "cell_type": "code",
   "execution_count": null,
   "metadata": {},
   "outputs": [],
   "source": [
    "# import libraries\n",
    "import circlify\n",
    "import matplotlib.pyplot as plt\n",
    "\n",
    "# Create just a figure and only one subplot\n",
    "fig, ax = plt.subplots(figsize=(14,14))\n",
    "\n",
    "# Title\n",
    "ax.set_title('Repartition of the world population')\n",
    "\n",
    "# Remove axes\n",
    "ax.axis('off')\n",
    "\n",
    "# Find axis boundaries\n",
    "lim = max(\n",
    "    max(\n",
    "        abs(circle.x) + circle.r,\n",
    "        abs(circle.y) + circle.r,\n",
    "    )\n",
    "    for circle in circles\n",
    ")\n",
    "plt.xlim(-lim, lim)\n",
    "plt.ylim(-lim, lim)\n",
    "\n",
    "# Print circle the highest level (continents):\n",
    "for circle in circles:\n",
    "    if circle.level != 2:\n",
    "      continue\n",
    "    x, y, r = circle\n",
    "    ax.add_patch( plt.Circle((x, y), r, alpha=0.5, linewidth=2, color=\"lightblue\"))\n",
    "\n",
    "# Print circle and labels for the highest level:\n",
    "for circle in circles:\n",
    "    if circle.level != 3:\n",
    "      continue\n",
    "    x, y, r = circle\n",
    "    label = circle.ex[\"id\"]\n",
    "    ax.add_patch( plt.Circle((x, y), r, alpha=0.5, linewidth=2, color=\"#69b3a2\"))\n",
    "    plt.annotate(label, (x,y ), ha='center', color=\"white\")\n",
    "\n",
    "# Print labels for the continents\n",
    "for circle in circles:\n",
    "    if circle.level != 2:\n",
    "      continue\n",
    "    x, y, r = circle\n",
    "    label = circle.ex[\"id\"]\n",
    "    plt.annotate(label, (x,y ) ,va='center', ha='center', bbox=dict(facecolor='white', edgecolor='black', boxstyle='round', pad=.5))"
   ]
  },
  {
   "cell_type": "code",
   "execution_count": null,
   "metadata": {},
   "outputs": [],
   "source": []
  },
  {
   "cell_type": "code",
   "execution_count": null,
   "metadata": {},
   "outputs": [],
   "source": []
  },
  {
   "cell_type": "code",
   "execution_count": null,
   "metadata": {},
   "outputs": [],
   "source": []
  },
  {
   "cell_type": "code",
   "execution_count": null,
   "metadata": {},
   "outputs": [],
   "source": []
  },
  {
   "cell_type": "code",
   "execution_count": null,
   "metadata": {},
   "outputs": [],
   "source": []
  },
  {
   "cell_type": "code",
   "execution_count": null,
   "metadata": {},
   "outputs": [],
   "source": []
  },
  {
   "cell_type": "code",
   "execution_count": null,
   "metadata": {},
   "outputs": [],
   "source": []
  },
  {
   "cell_type": "code",
   "execution_count": null,
   "metadata": {},
   "outputs": [],
   "source": []
  },
  {
   "cell_type": "code",
   "execution_count": null,
   "metadata": {},
   "outputs": [],
   "source": []
  },
  {
   "cell_type": "code",
   "execution_count": null,
   "metadata": {},
   "outputs": [],
   "source": []
  },
  {
   "cell_type": "code",
   "execution_count": null,
   "metadata": {},
   "outputs": [],
   "source": []
  },
  {
   "cell_type": "code",
   "execution_count": null,
   "metadata": {},
   "outputs": [],
   "source": []
  },
  {
   "cell_type": "code",
   "execution_count": null,
   "metadata": {},
   "outputs": [],
   "source": []
  },
  {
   "cell_type": "code",
   "execution_count": null,
   "metadata": {},
   "outputs": [],
   "source": []
  },
  {
   "cell_type": "code",
   "execution_count": null,
   "metadata": {},
   "outputs": [],
   "source": []
  },
  {
   "cell_type": "code",
   "execution_count": null,
   "metadata": {},
   "outputs": [],
   "source": []
  },
  {
   "cell_type": "code",
   "execution_count": null,
   "metadata": {},
   "outputs": [],
   "source": []
  },
  {
   "cell_type": "code",
   "execution_count": null,
   "metadata": {},
   "outputs": [],
   "source": []
  },
  {
   "cell_type": "code",
   "execution_count": null,
   "metadata": {},
   "outputs": [],
   "source": []
  },
  {
   "cell_type": "code",
   "execution_count": null,
   "metadata": {},
   "outputs": [],
   "source": []
  },
  {
   "cell_type": "code",
   "execution_count": null,
   "metadata": {},
   "outputs": [],
   "source": []
  },
  {
   "cell_type": "code",
   "execution_count": null,
   "metadata": {},
   "outputs": [],
   "source": []
  },
  {
   "cell_type": "code",
   "execution_count": null,
   "metadata": {},
   "outputs": [],
   "source": []
  },
  {
   "cell_type": "code",
   "execution_count": null,
   "metadata": {},
   "outputs": [],
   "source": []
  },
  {
   "cell_type": "code",
   "execution_count": null,
   "metadata": {},
   "outputs": [],
   "source": []
  },
  {
   "cell_type": "code",
   "execution_count": null,
   "metadata": {},
   "outputs": [],
   "source": []
  },
  {
   "cell_type": "code",
   "execution_count": null,
   "metadata": {},
   "outputs": [],
   "source": []
  },
  {
   "cell_type": "code",
   "execution_count": null,
   "metadata": {},
   "outputs": [],
   "source": []
  },
  {
   "cell_type": "code",
   "execution_count": null,
   "metadata": {},
   "outputs": [],
   "source": []
  },
  {
   "cell_type": "code",
   "execution_count": null,
   "metadata": {},
   "outputs": [],
   "source": []
  },
  {
   "cell_type": "code",
   "execution_count": null,
   "metadata": {},
   "outputs": [],
   "source": []
  },
  {
   "cell_type": "code",
   "execution_count": null,
   "metadata": {},
   "outputs": [],
   "source": []
  },
  {
   "cell_type": "code",
   "execution_count": null,
   "metadata": {},
   "outputs": [],
   "source": []
  },
  {
   "cell_type": "code",
   "execution_count": null,
   "metadata": {},
   "outputs": [],
   "source": []
  }
 ],
 "metadata": {
  "kernelspec": {
   "display_name": "Python 3.8.0 64-bit",
   "language": "python",
   "name": "python3"
  },
  "language_info": {
   "codemirror_mode": {
    "name": "ipython",
    "version": 3
   },
   "file_extension": ".py",
   "mimetype": "text/x-python",
   "name": "python",
   "nbconvert_exporter": "python",
   "pygments_lexer": "ipython3",
   "version": "3.8.0"
  },
  "orig_nbformat": 4,
  "vscode": {
   "interpreter": {
    "hash": "e224e6ffc6a79d997e70a56e2eea6596a33799be7332df00b55415489d25d351"
   }
  }
 },
 "nbformat": 4,
 "nbformat_minor": 2
}
